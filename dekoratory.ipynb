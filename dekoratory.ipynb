{
 "cells": [
  {
   "cell_type": "markdown",
   "metadata": {},
   "source": [
    "<p style=\"font-family: Arial; font-size:3.0em;color:purple; font-style:bold\"><br>\n",
    "Python - @dekoratory </p><br>\n",
    "<p style=\"font-size:2.0em; font-style:italic\">Monika Kubek</p><br>\n",
    "<p style=\"font-size:1.4em\">18.09.2017 r.</p><br>\n",
    "\n",
    "Dekorator to konstrukcja, która modyfikuje obiekt wywoływalny taki jak klasa czy funkcja. Bierze on wywoływany obiekt, dodaje mu pewną funkcjonalność, a następnie zwraca go w nowej postaci. Używanie dekoratorów jest bardzo proste, jednak ich tworzenie może nastręczyć wielu trudności. Jest to potężne narzędzie, które nieraz okazuje się bardzo przydatne.\n",
    "\n",
    "Gdy nasz program staje się coraz bardziej rozbudowany, w pewnym momencie może się okazać, że potrzebujemy zmodyfikować pewne funkcje lub klasy. O ile będzie to tylko jednorazowe działanie, to różne sposoby mogą być efektywne. Jednak jeśli chcemy, żeby nowa funkcjonalność dotyczyła kilku obiektów, to często łatwiej jest po prostu \"opakować\" je jednym dekoratorem. Dodatkowo składnia dekoratorów pozwala na umieszczanie wyraźnej informacji w jaki sposób obiekt zostanie udekorowany i jak zmieni się jego funkcjonalność. To wyraźnie zwiększa czytelność naszego kodu.\n",
    "\n",
    "W niniejszym tutoriale opiszę podstawy tworzenia dekoratorów. Wymagana jest jednak wcześniejsza wiedza o funkcjach i klasach w języku Python.\n",
    "\n",
    "*Python version: 3.5.2*\n",
    "\n",
    "**Źródła**\n",
    "* https://www.python-course.eu/python3_decorators.php\n",
    "* https://www.codementor.io/sheena/introduction-to-decorators-du107vo5c\n",
    "* https://www.codementor.io/sheena/advanced-use-python-decorators-class-function-du107nxsv\n",
    "* https://www.python.org/dev/peps/pep-0318/\n",
    "* https://www.python.org/dev/peps/pep-3129/\n",
    "* https://krzysztofzuraw.com/blog/2016/python-class-decorators.html\n",
    "* http://www.rwdev.eu/articles/decorators\n",
    "* https://www.programiz.com/python-programming/property\n",
    "* https://wiki.python.org/moin/PythonDecoratorLibrary\n",
    "* https://python-gtk-3-tutorial.readthedocs.io/en/latest/index.html"
   ]
  },
  {
   "cell_type": "markdown",
   "metadata": {},
   "source": [
    "# Syntax"
   ]
  },
  {
   "cell_type": "markdown",
   "metadata": {},
   "source": [
    "Obecna podstawowa składnia dekoratora korzysta ze znaku <font color=\"purple\">@</font>:"
   ]
  },
  {
   "cell_type": "code",
   "execution_count": null,
   "metadata": {
    "collapsed": true
   },
   "outputs": [],
   "source": [
    "@dek1\n",
    "def myFunc(*args):\n",
    "    pass\n",
    "\n",
    "@dek2\n",
    "class MyClass:\n",
    "    pass"
   ]
  },
  {
   "cell_type": "markdown",
   "metadata": {},
   "source": [
    "co jest równoważne konstrukcji:"
   ]
  },
  {
   "cell_type": "code",
   "execution_count": null,
   "metadata": {
    "collapsed": true
   },
   "outputs": [],
   "source": [
    "def myFunc(*args):\n",
    "    pass\n",
    "\n",
    "class MyClass:\n",
    "    pass\n",
    "\n",
    "myFunc = dek1(myFunc(*args))\n",
    "MyClass = dek2(MyClass)"
   ]
  },
  {
   "cell_type": "markdown",
   "metadata": {},
   "source": [
    "Sam dekorator jest zaś odpowiednio zbudowaną funkcją lub klasą."
   ]
  },
  {
   "cell_type": "markdown",
   "metadata": {},
   "source": [
    "# Dekoratory funkcji\n",
    "Dekorator bierze funkcję, a następnie zwraca ją w zmodyfikowanej wersji. "
   ]
  },
  {
   "cell_type": "markdown",
   "metadata": {},
   "source": [
    "## *Prosty przykład*"
   ]
  },
  {
   "cell_type": "code",
   "execution_count": 1,
   "metadata": {
    "collapsed": true
   },
   "outputs": [],
   "source": [
    "def dekorator(func):\n",
    "    def opakowanie():\n",
    "        print('Funkcja udekorowana')\n",
    "        func()\n",
    "    return opakowanie\n",
    "\n",
    "\n",
    "def foo():\n",
    "    print(\"Foo!\")"
   ]
  },
  {
   "cell_type": "markdown",
   "metadata": {},
   "source": [
    "Funkcja <font color=\"blue\">dekorator</font>() pobiera funkcję jako parametr i zwraca inną funkcję \"opakowaną\" w sposób zależny od danego parametru. <br>\n",
    "Udekorujmy zatem funkcję <font color=\"blue\">foo</font>()."
   ]
  },
  {
   "cell_type": "code",
   "execution_count": 2,
   "metadata": {},
   "outputs": [
    {
     "name": "stdout",
     "output_type": "stream",
     "text": [
      "Funkcja udekorowana\n",
      "Foo!\n"
     ]
    }
   ],
   "source": [
    "bar = dekorator(foo)\n",
    "bar()"
   ]
  },
  {
   "cell_type": "markdown",
   "metadata": {},
   "source": [
    "Powyższa koncepcja przedstawia całą zasadę działania dekoratora. Można ją zapisać w bardziej przejrzystej składni:"
   ]
  },
  {
   "cell_type": "code",
   "execution_count": 3,
   "metadata": {},
   "outputs": [
    {
     "name": "stdout",
     "output_type": "stream",
     "text": [
      "Funkcja udekorowana\n",
      "Foo!\n"
     ]
    }
   ],
   "source": [
    "@dekorator\n",
    "def foo():\n",
    "    print(\"Foo!\")\n",
    "\n",
    "foo()"
   ]
  },
  {
   "cell_type": "markdown",
   "metadata": {},
   "source": [
    "I to tyle! Cała magia dekoratora tkwi właśnie w jego postaci - jest to tak zwany lukier składniowy."
   ]
  },
  {
   "cell_type": "markdown",
   "metadata": {},
   "source": [
    "## *Funkcja przyjmuje argument*"
   ]
  },
  {
   "cell_type": "code",
   "execution_count": 4,
   "metadata": {
    "collapsed": true
   },
   "outputs": [],
   "source": [
    "def opis(funkcja):\n",
    "    def opakowanie(a,b):\n",
    "        print(\"Zamierzam dzielić\", a, \"przez\", b)\n",
    "        if b == 0:\n",
    "            print(\"Nie można dzielić przez 0!\")\n",
    "            return\n",
    "        print(\"wynik to:\")\n",
    "        return funkcja(a, b)\n",
    "    return opakowanie\n",
    "\n",
    "@opis\n",
    "def dzielenie(a, b):\n",
    "    return a/b"
   ]
  },
  {
   "cell_type": "markdown",
   "metadata": {},
   "source": [
    "W powyższym przekładzie funkcja <font color=\"blue\">dzielenie</font>() przyjmuje dwa argumenty, które są następnie użyte w dekoratorze."
   ]
  },
  {
   "cell_type": "code",
   "execution_count": 5,
   "metadata": {},
   "outputs": [
    {
     "name": "stdout",
     "output_type": "stream",
     "text": [
      "Zamierzam dzielić 10 przez 2\n",
      "wynik to:\n"
     ]
    },
    {
     "data": {
      "text/plain": [
       "5.0"
      ]
     },
     "execution_count": 5,
     "metadata": {},
     "output_type": "execute_result"
    }
   ],
   "source": [
    "dzielenie(10,2)"
   ]
  },
  {
   "cell_type": "code",
   "execution_count": 6,
   "metadata": {},
   "outputs": [
    {
     "name": "stdout",
     "output_type": "stream",
     "text": [
      "Zamierzam dzielić 1 przez 0\n",
      "Nie można dzielić przez 0!\n"
     ]
    }
   ],
   "source": [
    "dzielenie(1,0)"
   ]
  },
  {
   "cell_type": "markdown",
   "metadata": {},
   "source": [
    "## *Dekorator przyjmuje argument*\n",
    "Kiedy funkcja użyta do dekorowania przyjmuje argumenty, jej konstrukcja robi się bardziej rozbudowana. Staje się ona funkcją fabryki, tworzy ona dekorator i dopiero zwracana przez nią wartość jest właściwym dekoratorem."
   ]
  },
  {
   "cell_type": "code",
   "execution_count": 1,
   "metadata": {
    "collapsed": true
   },
   "outputs": [],
   "source": [
    "def fabryka(n):\n",
    "    def dekorator(func):\n",
    "        def opakowanie():\n",
    "            for i in range(n):\n",
    "                print(\"Produkujemy \", i+1)\n",
    "                func()\n",
    "            return None\n",
    "        return opakowanie\n",
    "    return dekorator\n",
    "\n",
    "@fabryka(3)\n",
    "def foo():\n",
    "    print('bar')"
   ]
  },
  {
   "cell_type": "code",
   "execution_count": 8,
   "metadata": {},
   "outputs": [
    {
     "name": "stdout",
     "output_type": "stream",
     "text": [
      "Produkujemy  1\n",
      "bar\n",
      "Produkujemy  2\n",
      "bar\n",
      "Produkujemy  3\n",
      "bar\n"
     ]
    }
   ],
   "source": [
    "foo()"
   ]
  },
  {
   "cell_type": "markdown",
   "metadata": {},
   "source": [
    "## *Łączenie dekoratorów*\n",
    "Do danej funkcji możemy zastosować wiele dekoratorów. Musimy jednak pamiętać o odpowiedniej kolejności."
   ]
  },
  {
   "cell_type": "code",
   "execution_count": 9,
   "metadata": {
    "collapsed": true
   },
   "outputs": [],
   "source": [
    "def star(func):\n",
    "    def opakowanie():\n",
    "        print('*' * 21)\n",
    "        func()\n",
    "        print('*' * 21)\n",
    "        return None\n",
    "    return opakowanie\n",
    "\n",
    "def plus(func):\n",
    "    def opakowanie():\n",
    "        print('+' * 21)\n",
    "        func()\n",
    "        print('+' * 21)\n",
    "        return None\n",
    "    return opakowanie\n",
    "\n",
    "\n",
    "@star\n",
    "@plus\n",
    "def foo():\n",
    "    print('foo' * 7)"
   ]
  },
  {
   "cell_type": "code",
   "execution_count": 10,
   "metadata": {},
   "outputs": [
    {
     "name": "stdout",
     "output_type": "stream",
     "text": [
      "*********************\n",
      "+++++++++++++++++++++\n",
      "foofoofoofoofoofoofoo\n",
      "+++++++++++++++++++++\n",
      "*********************\n"
     ]
    }
   ],
   "source": [
    "foo()"
   ]
  },
  {
   "cell_type": "markdown",
   "metadata": {},
   "source": [
    "## *Przykład 1*"
   ]
  },
  {
   "cell_type": "markdown",
   "metadata": {},
   "source": [
    "Ten prosty trik daje wiele możliwości. Wyobraźmy sobie, że mamy wiele funkcji, które mogą być wywołane przez użytkowników z różnych kont. Wiadomo, że każde konto docelowo powinno mieć dostęp do pewnych funkcji, a innych nie. Co robimy? Wystarczy stworzyć jeden dekorator, który będzie za argument przyjmować rodzaj dostępu i udekorować nim wybrane funkcje. Szybkie, proste i tworzy bardzo przejrzysty kod. "
   ]
  },
  {
   "cell_type": "code",
   "execution_count": 17,
   "metadata": {
    "collapsed": true
   },
   "outputs": [],
   "source": [
    "def wymaga_pozwolenia(pozwolenie): \n",
    "    \"\"\"Funkcja, która pozwala na użycie dekorowanej funkcji tylko użytkownikowi i zadanych uprawnieniach.\"\"\"\n",
    "    def dekorator(funkcja):          \n",
    "        def opakowanie(*args):                            \n",
    "            listaPozwolen = uzyskaj_pozwolenie(zwroc_ID_uzytkownika())     \n",
    "            if pozwolenie in listaPozwolen:                       \n",
    "                return funkcja(*args)                         \n",
    "            raise Exception(\"odmowa dostępu\")     \n",
    "        return opakowanie                                       \n",
    "    return dekorator       \n",
    "\n",
    "\n",
    "# dwie funkcje pomocnicze\n",
    "def uzyskaj_pozwolenie(ID_uzytkownika): \n",
    "    return ['zalogowany', 'premium']\n",
    "\n",
    "def zwroc_ID_uzytkownika():       \n",
    "    return 1\n",
    "                       \n",
    "# dekorowane funkcje\n",
    "@wymaga_pozwolenia('administrator')\n",
    "def usun_uzytkownika(ID_uzytkownika):\n",
    "    \"\"\"Usuwa użytkownika o zadanym ID. Dostępne tylko dla administratora.\"\"\"\n",
    "    return \"Usunięto użytkownika {}\".format(ID_uzytkownika)\n",
    "\n",
    "@wymaga_pozwolenia('zalogowany')\n",
    "def nowa_gra():\n",
    "    \"\"\"Każdy zalogowany użytkownik może zacząć nową grę.\"\"\"\n",
    "    return \"nowa gra\"\n",
    "    \n",
    "@wymaga_pozwolenia('premium')\n",
    "def usluga_premium():\n",
    "    \"\"\"Opcja tylko dla użytkownika premium\"\"\"\n",
    "    return \"wykonano usługę premium\""
   ]
  },
  {
   "cell_type": "markdown",
   "metadata": {},
   "source": [
    "Zobaczmy działanie naszego programu dla zalogowanego użytkownika premium:"
   ]
  },
  {
   "cell_type": "code",
   "execution_count": 14,
   "metadata": {},
   "outputs": [
    {
     "ename": "Exception",
     "evalue": "odmowa dostępu",
     "output_type": "error",
     "traceback": [
      "\u001b[0;31m---------------------------------------------------------------------------\u001b[0m",
      "\u001b[0;31mException\u001b[0m                                 Traceback (most recent call last)",
      "\u001b[0;32m<ipython-input-14-73fd332a2f42>\u001b[0m in \u001b[0;36m<module>\u001b[0;34m()\u001b[0m\n\u001b[0;32m----> 1\u001b[0;31m \u001b[0musun_uzytkownika\u001b[0m\u001b[0;34m(\u001b[0m\u001b[0;36m1\u001b[0m\u001b[0;34m)\u001b[0m\u001b[0;34m\u001b[0m\u001b[0m\n\u001b[0m",
      "\u001b[0;32m<ipython-input-13-a7f86511ee79>\u001b[0m in \u001b[0;36mopakowanie\u001b[0;34m(*args)\u001b[0m\n\u001b[1;32m      6\u001b[0m             \u001b[0;32mif\u001b[0m \u001b[0mpozwolenie\u001b[0m \u001b[0;32min\u001b[0m \u001b[0mlistaPozwolen\u001b[0m\u001b[0;34m:\u001b[0m\u001b[0;34m\u001b[0m\u001b[0m\n\u001b[1;32m      7\u001b[0m                 \u001b[0;32mreturn\u001b[0m \u001b[0mfunkcja\u001b[0m\u001b[0;34m(\u001b[0m\u001b[0;34m*\u001b[0m\u001b[0margs\u001b[0m\u001b[0;34m)\u001b[0m\u001b[0;34m\u001b[0m\u001b[0m\n\u001b[0;32m----> 8\u001b[0;31m             \u001b[0;32mraise\u001b[0m \u001b[0mException\u001b[0m\u001b[0;34m(\u001b[0m\u001b[0;34m\"odmowa dostępu\"\u001b[0m\u001b[0;34m)\u001b[0m\u001b[0;34m\u001b[0m\u001b[0m\n\u001b[0m\u001b[1;32m      9\u001b[0m         \u001b[0;32mreturn\u001b[0m \u001b[0mopakowanie\u001b[0m\u001b[0;34m\u001b[0m\u001b[0m\n\u001b[1;32m     10\u001b[0m     \u001b[0;32mreturn\u001b[0m \u001b[0mdekorator\u001b[0m\u001b[0;34m\u001b[0m\u001b[0m\n",
      "\u001b[0;31mException\u001b[0m: odmowa dostępu"
     ]
    }
   ],
   "source": [
    "usun_uzytkownika(1)"
   ]
  },
  {
   "cell_type": "code",
   "execution_count": 15,
   "metadata": {},
   "outputs": [
    {
     "data": {
      "text/plain": [
       "'nowa gra'"
      ]
     },
     "execution_count": 15,
     "metadata": {},
     "output_type": "execute_result"
    }
   ],
   "source": [
    "nowa_gra()"
   ]
  },
  {
   "cell_type": "code",
   "execution_count": 16,
   "metadata": {},
   "outputs": [
    {
     "data": {
      "text/plain": [
       "'wykonano usługę premium'"
      ]
     },
     "execution_count": 16,
     "metadata": {},
     "output_type": "execute_result"
    }
   ],
   "source": [
    "usluga_premium()"
   ]
  },
  {
   "cell_type": "markdown",
   "metadata": {},
   "source": [
    "## *Przykład 2*"
   ]
  },
  {
   "cell_type": "markdown",
   "metadata": {},
   "source": [
    "Włączanie i wyłączenie dekoratorów za pomocą globalnej flagi."
   ]
  },
  {
   "cell_type": "code",
   "execution_count": 29,
   "metadata": {},
   "outputs": [
    {
     "name": "stdout",
     "output_type": "stream",
     "text": [
      "foo: funkcja włączona \n",
      "bar: None\n"
     ]
    }
   ],
   "source": [
    "def wlaczony(funkcja):\n",
    "    \"Ten dekorator nie wpływa na działanie funkcji.\"\n",
    "    return funkcja\n",
    "\n",
    "def wylaczony(funkcja):\n",
    "    \"Ten dekorator wyłącza działanie funkcji i nie robi nic.\"\n",
    "    def pusta_funkcja(*args):\n",
    "        return None\n",
    "    return pusta_funkcja\n",
    "\n",
    "\n",
    "GLOBALNA_FLAGA = True\n",
    "stan = wlaczony if GLOBALNA_FLAGA else wylaczony\n",
    "@stan\n",
    "def foo():\n",
    "    return \"funkcja włączona\"\n",
    "\n",
    "GLOBALNA_FLAGA = False\n",
    "stan = wlaczony if GLOBALNA_FLAGA else wylaczony\n",
    "@stan\n",
    "def bar():\n",
    "    return \"funkcja włączona\"\n",
    "\n",
    "# sprawdźmy\n",
    "print('foo:', foo(), '\\nbar:', bar())"
   ]
  },
  {
   "cell_type": "markdown",
   "metadata": {},
   "source": [
    "## *Przykład 3*"
   ]
  },
  {
   "cell_type": "code",
   "execution_count": 11,
   "metadata": {},
   "outputs": [
    {
     "data": {
      "image/png": "[encoded data removed]",
      "text/plain": [
       "<matplotlib.figure.Figure at 0x7fe5de7f2da0>"
      ]
     },
     "metadata": {},
     "output_type": "display_data"
    }
   ],
   "source": [
    "from matplotlib import pyplot as plt\n",
    "import numpy as np\n",
    "\n",
    "%matplotlib inline\n",
    "\n",
    "\n",
    "def dziedzina(a=-1, b=1):\n",
    "    \"\"\"\n",
    "    Dekorator, który ogranicza funkcję do przedziału (a, b), a poza nim pozostawia stałą wartość.\n",
    "    Domyślnie a=-1 i b=1\n",
    "    \"\"\"\n",
    "    def dekorator(f):\n",
    "        \"\"\"Rzeczywisty dekorator\"\"\"\n",
    "        def opakowanie(x):\n",
    "            y = f(x)\n",
    "            # sprawdzamy czy argumenty funkcji wychodzą poza wybraną dziedzinę\n",
    "            if y < a:\n",
    "                y = a\n",
    "            elif y > b:\n",
    "                y = b\n",
    "            return y\n",
    "        return opakowanie\n",
    "    # sprawdzamy czy dekorator zostaje wywołany z argumentami\n",
    "    if callable(a):  # True jeśli a jest funkcją\n",
    "        f = a\n",
    "        a = -1\n",
    "        # po zastąpieniu a wartością -1 wywołujemy dekorator na funkcji f\n",
    "        return dekorator(f)\n",
    "    return dekorator\n",
    "\n",
    "\n",
    "@dziedzina  # lub @dziedzina(a,b), gdzie a i b to dowolne wartości\n",
    "def f(x):\n",
    "    return x**2\n",
    "\n",
    "x = np.linspace(-2, 2, 100)\n",
    "y = np.array([f(i) for i in x])\n",
    "\n",
    "plt.plot(x, y)\n",
    "plt.show()"
   ]
  },
  {
   "cell_type": "markdown",
   "metadata": {},
   "source": [
    "# Dekoratory klas"
   ]
  },
  {
   "cell_type": "markdown",
   "metadata": {},
   "source": [
    "Równie łatwo jak udekorowaliśmy funkcje możemy udekorować metody w klasach."
   ]
  },
  {
   "cell_type": "code",
   "execution_count": null,
   "metadata": {
    "collapsed": true
   },
   "outputs": [],
   "source": [
    "class MyClass(object):\n",
    "    \n",
    "    @dekorator1\n",
    "    def __init__(self):\n",
    "        pass\n",
    "    @dekorator2\n",
    "    def func(self):\n",
    "        pass"
   ]
  },
  {
   "cell_type": "markdown",
   "metadata": {},
   "source": [
    "W tym momencie warto wspomnieć, że język Python ma wiele dekoratorów, które są już zaimplementowane (np. w module <a href=\"https://docs.python.org/3.5/library/functools.html\">functools</a>). "
   ]
  },
  {
   "cell_type": "markdown",
   "metadata": {},
   "source": [
    "W Pythonie mamy trzy rodzaje metod obiektów. Podstawowym rodzajem są metody instancyjne, które jako pierwszy argument przyjmują *self*, który reprezentuje daną instancję klasy. Drugi rodzaj to metody statyczne, które nie operują na instancji, tylko umieszczone są w zasięgu klasy. Tworzy się je dekoratorem <font color=\"purple\">@staticmethod</font>. Trzeci rodzaj to metody klasowe wywoływane na rzecz całej klasy. Tutaj z pomocą przychodzi dekorator <font color=\"purple\">@classmethod</font>. Więcej na ten temat można przeczytać na przykład <a href=\"http://xion.org.pl/2011/10/03/trzy-rodzaje-metod-w-pythonie/\">tutaj</a>."
   ]
  },
  {
   "cell_type": "markdown",
   "metadata": {},
   "source": [
    "## *@property* "
   ]
  },
  {
   "cell_type": "code",
   "execution_count": null,
   "metadata": {
    "collapsed": true
   },
   "outputs": [],
   "source": [
    "property(fget=None, fset=None, fdel=None, doc=None)"
   ]
  },
  {
   "cell_type": "markdown",
   "metadata": {},
   "source": [
    "<font color=\"green\">property</font>() jest to wbudowana funkcja, która tworzy i zwraca obiekt *property*. *fget* to funkcja zwracająca wartość atrybutu, *fset* przypisuje wartość, *fdel* usuwa atrybut, a *doc* to na przykład komentarz. Jak widać funkcja ta z racji swojej konstrukcji może być użyta jako dekorator. Staje się ona niezwykle pożyteczna w momencie, gdy w naszej klasie pojawiają się deskryptory. "
   ]
  },
  {
   "cell_type": "markdown",
   "metadata": {},
   "source": [
    "Na początek mały przykład. Stwórzmy klasę, która będzie przechowywała informację o wartości temperatury w stopniach Celsjusza. "
   ]
  },
  {
   "cell_type": "code",
   "execution_count": 12,
   "metadata": {
    "collapsed": true
   },
   "outputs": [],
   "source": [
    "class Celsjusz(object):\n",
    "\n",
    "    def __init__(self, temperatura=0):\n",
    "        self.temperatura = temperatura"
   ]
  },
  {
   "cell_type": "markdown",
   "metadata": {},
   "source": [
    "Teraz załóżmy, że nasza klasa stała się popularna i różni użytkownicy implementują ją w swoim kodzie na różne sposoby. Po czasie przypominamy sobie lekcję fizyki, na której powiedziano nam, że przecież temperatura nie może spaść poniżej wartości <a href=\"https://pl.wikipedia.org/wiki/Zero_bezwzgl%C4%99dne\">zera bezwględnego</a>! Rozbudujmy więc nieco naszą klasę."
   ]
  },
  {
   "cell_type": "code",
   "execution_count": 13,
   "metadata": {
    "collapsed": true
   },
   "outputs": [],
   "source": [
    "class Celsjusz(object):\n",
    "    \n",
    "    def __init__(self, temperatura=0):\n",
    "        self.set_temperatura(temperatura)\n",
    "    \n",
    "    def get_temperatura(self):\n",
    "        return self.__temperatura\n",
    "    \n",
    "    def set_temperatura(self, wartosc):\n",
    "        if wartosc < -273.15:\n",
    "            raise ValueError(\"Temperatura poniżej -273.15C jest niemożliwa!\")\n",
    "        else:\n",
    "            self.__temperatura = wartosc"
   ]
  },
  {
   "cell_type": "markdown",
   "metadata": {},
   "source": [
    "Jak widzimy, nasza klasa wygląda teraz znacznie lepiej. Pojawiły się setter i getter, a temperatura stała się zmienną prywatną klasy. My się cieszymy, ale co z innymi użytkownikami, którzy implementowali naszą klasę w swoim kodzie? Okazuje się, że nowa forma nie jest wstecznie kompatybilna. Teraz wszyscy musieliby zmieniać swój kod tak, żeby nowe metody działały. Dla instancji"
   ]
  },
  {
   "cell_type": "code",
   "execution_count": 19,
   "metadata": {
    "collapsed": true
   },
   "outputs": [],
   "source": [
    "c = Celsjusz(69)"
   ]
  },
  {
   "cell_type": "markdown",
   "metadata": {},
   "source": [
    "wcześniej funkcjonujące"
   ]
  },
  {
   "cell_type": "code",
   "execution_count": 20,
   "metadata": {},
   "outputs": [
    {
     "ename": "AttributeError",
     "evalue": "'Celsjusz' object has no attribute 'temperatura'",
     "output_type": "error",
     "traceback": [
      "\u001b[0;31m---------------------------------------------------------------------------\u001b[0m",
      "\u001b[0;31mAttributeError\u001b[0m                            Traceback (most recent call last)",
      "\u001b[0;32m<ipython-input-20-ae3361289941>\u001b[0m in \u001b[0;36m<module>\u001b[0;34m()\u001b[0m\n\u001b[0;32m----> 1\u001b[0;31m \u001b[0mc\u001b[0m\u001b[0;34m.\u001b[0m\u001b[0mtemperatura\u001b[0m\u001b[0;34m\u001b[0m\u001b[0m\n\u001b[0m\u001b[1;32m      2\u001b[0m \u001b[0mc\u001b[0m\u001b[0;34m.\u001b[0m\u001b[0mtemperatura\u001b[0m \u001b[0;34m=\u001b[0m \u001b[0;36m96\u001b[0m\u001b[0;34m\u001b[0m\u001b[0m\n",
      "\u001b[0;31mAttributeError\u001b[0m: 'Celsjusz' object has no attribute 'temperatura'"
     ]
    }
   ],
   "source": [
    "c.temperatura\n",
    "c.temperatura = 96"
   ]
  },
  {
   "cell_type": "markdown",
   "metadata": {},
   "source": [
    "trzeba zastąpić"
   ]
  },
  {
   "cell_type": "code",
   "execution_count": 21,
   "metadata": {},
   "outputs": [
    {
     "name": "stdout",
     "output_type": "stream",
     "text": [
      "69\n",
      "96\n"
     ]
    }
   ],
   "source": [
    "print(c.get_temperatura())\n",
    "c.set_temperatura(96)\n",
    "print(c.get_temperatura())"
   ]
  },
  {
   "cell_type": "markdown",
   "metadata": {},
   "source": [
    "Można sobie z tym problemem w sprytny sposób poradzić, tworząc z *temperatura* obiekt property."
   ]
  },
  {
   "cell_type": "code",
   "execution_count": 22,
   "metadata": {
    "collapsed": true
   },
   "outputs": [],
   "source": [
    "class Celsjusz(object):\n",
    "    # wcześniejsza metoda\n",
    "    def __init__(self, temperatura=0):\n",
    "        self.temperatura = temperatura\n",
    "\n",
    "    # nowe metody\n",
    "    def get_temperatura(self):\n",
    "        return self.__temperatura\n",
    "\n",
    "    def set_temperatura(self, wartosc):\n",
    "        if wartosc < -273.15:\n",
    "            raise ValueError(\"Temperatura poniżej -273.15C jest niemożliwa!\")\n",
    "        else:\n",
    "            self.__temperatura = wartosc\n",
    "\n",
    "    temperature = property(get_temperatura,set_temperatura)"
   ]
  },
  {
   "cell_type": "markdown",
   "metadata": {},
   "source": [
    "Voilà! Mamy kod, który posiada nowe właściwości, a także jest wstecznie kompatybilny. Jak to działa? Każdy obiekt, który będzie przypisywał (pobierał) wartość obiektowi *temperatura* będzie automatycznie wywoływał funkcję *set_temperatura* (*get_temperatura*). Dzieje się to już podczas inicjowania klasy w kontruktorze."
   ]
  },
  {
   "cell_type": "markdown",
   "metadata": {},
   "source": [
    "A wszystko to można ubrać ładnie w dekorator:"
   ]
  },
  {
   "cell_type": "code",
   "execution_count": 23,
   "metadata": {
    "collapsed": true
   },
   "outputs": [],
   "source": [
    "class Celsjusz(object):\n",
    "\n",
    "    def __init__(self, temperatura):\n",
    "        self.temperatura = temperatura\n",
    "\n",
    "    def do_fahrenheit(self):\n",
    "        return (self.temperatura * 1.8) + 32\n",
    "    \n",
    "    @property  # getter\n",
    "    def temperatura(self):\n",
    "        return self.__temperatura\n",
    "    \n",
    "    @temperatura.setter\n",
    "    def temperatura(self, wartosc):\n",
    "        if wartosc < -273.15:\n",
    "            raise ValueError(\"Temperatura poniżej -273.15C jest niemożliwa!\")\n",
    "        else:\n",
    "            self.__temperatura = wartosc"
   ]
  },
  {
   "cell_type": "markdown",
   "metadata": {},
   "source": [
    "Inny przykład:"
   ]
  },
  {
   "cell_type": "code",
   "execution_count": 24,
   "metadata": {},
   "outputs": [
    {
     "name": "stdout",
     "output_type": "stream",
     "text": [
      "0.5\n",
      "28.6478897565 \n",
      "\n",
      "15.0\n",
      "0.261799387799\n"
     ]
    }
   ],
   "source": [
    "import numpy as np\n",
    "\n",
    "\n",
    "class Katy(object):\n",
    "    \"\"\"\n",
    "    Klasa kątów.\n",
    "    klasa.rad przechowuje wartość kąta w radianach\n",
    "    klasa.deg przechowuje wartość kąta w stopniach\n",
    "    \"\"\"\n",
    "    \n",
    "    def __init__(self):\n",
    "        self.__rad = np.array([0.])\n",
    "        \n",
    "    @property\n",
    "    def rad(self):\n",
    "        return self.__rad\n",
    "    \n",
    "    @rad.setter\n",
    "    def rad(self, katy_rad):\n",
    "        self.__rad = katy_rad\n",
    "\n",
    "    @property\n",
    "    def deg(self):\n",
    "        return np.rad2deg(self.__rad)\n",
    "\n",
    "    @deg.setter\n",
    "    def deg(self, katy_deg):\n",
    "        self.__rad = np.deg2rad(katy_deg)\n",
    "\n",
    "\n",
    "k = Katy()  # tworzymy instancję klasy\n",
    "\n",
    "k.rad = 0.5  # przypisujemy wartość kąta w radianach\n",
    "\n",
    "print(k.rad)\n",
    "print(k.deg, '\\n')  # zostaje także podana wartość w stopniach\n",
    "\n",
    "k.deg = 15  # przypisujemy wartość w stopniach\n",
    "print(k.deg)\n",
    "print(k.rad)  # wartość w radianach została od razu przeliczona na nową"
   ]
  },
  {
   "cell_type": "markdown",
   "metadata": {},
   "source": [
    "## *Dekoratory całych klas*"
   ]
  },
  {
   "cell_type": "markdown",
   "metadata": {},
   "source": [
    "Nie tylko dekorujemy funkcje, ale też całe klasy."
   ]
  },
  {
   "cell_type": "code",
   "execution_count": 25,
   "metadata": {},
   "outputs": [
    {
     "name": "stdout",
     "output_type": "stream",
     "text": [
      "tekst\n"
     ]
    }
   ],
   "source": [
    "def dekorator_klasy(funkcja):\n",
    "    def opakowanie(klasa):\n",
    "        if not '__call__' in klasa.__dict__:\n",
    "            klasa.__call__ = funkcja\n",
    "        return klasa\n",
    "    return opakowanie\n",
    "\n",
    "\n",
    "@dekorator_klasy(lambda self, arg: print(arg))\n",
    "class MojaKlasa(object):\n",
    "    pass\n",
    "\n",
    "\n",
    "klasa = MojaKlasa()\n",
    "klasa('tekst')"
   ]
  },
  {
   "cell_type": "markdown",
   "metadata": {},
   "source": [
    "Napiszmy teraz prosty program gtk, który będzie kończył działanie po zamknieciu dowolnego okna. Stworzymy dekorator klasy, który podepnie funkcję zamknij do wszystkich obiektów gtk.Window zdefiniowanych w konstruktorze. Dodatkowo stworzymy własną klasę dziedziczącą po gtk.Window, którą udekorujemy tak, aby okno zawsze było ponad innymi."
   ]
  },
  {
   "cell_type": "code",
   "execution_count": null,
   "metadata": {
    "collapsed": true
   },
   "outputs": [],
   "source": [
    "import gi\n",
    "gi.require_version(\"Gtk\", \"3.0\")\n",
    "from gi.repository import Gtk as gtk\n",
    "\n",
    "\n",
    "def zamkniecie(klasa):\n",
    "    \"\"\"Dekorator przypisujący funkcję zamknięcia do wszystkich okien w konstruktorze klasy.\"\"\"\n",
    "    init = klasa.__init__\n",
    "    def nowy_init(self):\n",
    "        init(self)\n",
    "        slownik = self.__dict__\n",
    "        okna = [key for key in slownik.keys() if isinstance(slownik[key], gtk.Window)]\n",
    "        for okno in okna:\n",
    "            slownik[okno].connect('delete-event', lambda *args: gtk.main_quit())\n",
    "    klasa.__init__ = nowy_init\n",
    "    return klasa\n",
    "\n",
    "def zawsze_na_gorze(klasa):\n",
    "    \"\"\"\n",
    "    Dekorator, który do dekorowanego okna dodaje właściwość 'zawsze na górze'.\n",
    "    Okno to będzie stale ponad innymi oknami.\n",
    "    \"\"\"\n",
    "    init = klasa.__init__\n",
    "    def nowy_init(self):\n",
    "        init(self)\n",
    "        self.set_keep_above(True)\n",
    "    klasa.__init__ = nowy_init\n",
    "    return klasa\n",
    "\n",
    "\n",
    "@zawsze_na_gorze\n",
    "class MojeOkno(gtk.Window):\n",
    "    \"\"\"Moje własne okno.\"\"\"\n",
    "    def __init__(self, tytul=\"Na górze\"):\n",
    "        gtk.Window.__init__(self, title=tytul)\n",
    "\n",
    "@zamkniecie\n",
    "class Glowny(object):\n",
    "    \"\"\"Główny program, który w konstruktorze otwiera wszystkie okna.\"\"\"\n",
    "    def __init__(self):\n",
    "        self.okno1 = gtk.Window(title='Okno Główne 1')\n",
    "        self.okno1.show_all()\n",
    "        self.okno2 = gtk.Window(title='Okno Główne 2')\n",
    "        self.okno2.show_all()\n",
    "        self.okno3 = MojeOkno()\n",
    "        self.okno3.show_all()\n",
    "\n",
    "\n",
    "Glowny()\n",
    "gtk.main()"
   ]
  },
  {
   "cell_type": "markdown",
   "metadata": {},
   "source": [
    "Na koniec jeszcze jeden prosty przykład."
   ]
  },
  {
   "cell_type": "code",
   "execution_count": 27,
   "metadata": {},
   "outputs": [
    {
     "name": "stdout",
     "output_type": "stream",
     "text": [
      "Bierzemy wartość x z <__main__.Punkt object at 0x7fe5f6f8bda0>\n",
      "1\n",
      "Bierzemy wartość y z <__main__.Punkt object at 0x7fe5f6f8bda0>\n",
      "2\n"
     ]
    }
   ],
   "source": [
    "def dekorator(klasa):\n",
    "    class Opakowanie(object):\n",
    "        def __init__(self, *args):\n",
    "            self.opakowanie = klasa(*args)\n",
    "        def __getattr__(self, zmienna):\n",
    "            print('Bierzemy wartość {} z {}'.format(zmienna, self.opakowanie))\n",
    "            return getattr(self.opakowanie, zmienna)\n",
    "    return Opakowanie\n",
    "\n",
    "\n",
    "@dekorator\n",
    "class Punkt(object):\n",
    "    \"\"\"Klasa, która jest punktem.\"\"\"\n",
    "    def __init__(self, x, y):\n",
    "        self.x = x\n",
    "        self.y = y\n",
    "\n",
    "        \n",
    "x = Punkt(1,2)\n",
    "print(x.x)\n",
    "print(x.y)"
   ]
  },
  {
   "cell_type": "markdown",
   "metadata": {},
   "source": [
    "# Klasy jako dekoratory"
   ]
  },
  {
   "cell_type": "markdown",
   "metadata": {},
   "source": [
    "Dekoratory to nie tylko funkcje. Użycie klasy jako dekoratora stwarza wiele więcej możliwości."
   ]
  },
  {
   "cell_type": "markdown",
   "metadata": {},
   "source": [
    "## *Przykład 1*"
   ]
  },
  {
   "cell_type": "code",
   "execution_count": 19,
   "metadata": {},
   "outputs": [
    {
     "name": "stdout",
     "output_type": "stream",
     "text": [
      "Dekoruję foo\n",
      "Foo!\n"
     ]
    }
   ],
   "source": [
    "class dekorator(object):\n",
    "    \"\"\"Ta klasa jest dekoratorem.\"\"\"\n",
    "    def __init__(self, funkcja):\n",
    "        self.funkcja = funkcja\n",
    "        \n",
    "    def __call__(self):\n",
    "        \"\"\"\n",
    "        Funkcja __call__ sprawia, że klasa jest obiektem wywoływalnym.\n",
    "        Jest to kluczowe przy tworzeniu dekoratora.\n",
    "        \"\"\"\n",
    "        print(\"Dekoruję\", self.funkcja.__name__)\n",
    "        self.funkcja()\n",
    "\n",
    "@dekorator\n",
    "def foo():\n",
    "    print(\"Foo!\")\n",
    "\n",
    "foo()"
   ]
  },
  {
   "cell_type": "markdown",
   "metadata": {},
   "source": [
    "## *Przykład 2*"
   ]
  },
  {
   "cell_type": "code",
   "execution_count": 31,
   "metadata": {},
   "outputs": [
    {
     "name": "stdout",
     "output_type": "stream",
     "text": [
      "zalogowany:\t To jest twoje konto\n",
      "niezalogowany:\t Przepraszamy - nie jesteś zalogowany!\n"
     ]
    }
   ],
   "source": [
    "class SprawdzZalogowanie(object):\n",
    "    \"\"\"\n",
    "    Ten dekorator sprawdza czy użytkownik się zalogował, jeśli:\n",
    "    tak - wywołuje funkcję\n",
    "    nie - wywołuje funkcję alternatywną 'brak_zalogowania'\n",
    "    \"\"\"\n",
    "    def __init__(self, funkcja):\n",
    "        self.__funkcja = funkcja\n",
    "\n",
    "    def __call__(self, *args):\n",
    "        status = sprawdz_zalogowanie()\n",
    "        if status is 1:\n",
    "            return self.__funkcja(*args)\n",
    "        else:\n",
    "            return brak_zalogowania()\n",
    "\n",
    "        \n",
    "def sprawdz_zalogowanie():\n",
    "    return test\n",
    "\n",
    "def brak_zalogowania():\n",
    "    return 'Przepraszamy - nie jesteś zalogowany!'\n",
    "\n",
    "@SprawdzZalogowanie\n",
    "def wyswietl_moje_konto():\n",
    "    return 'To jest twoje konto'\n",
    "\n",
    "\n",
    "# sprawdzamy działanie\n",
    "test = 1\n",
    "print('zalogowany:\\t', wyswietl_moje_konto())\n",
    "test = 0\n",
    "print('niezalogowany:\\t', wyswietl_moje_konto())"
   ]
  },
  {
   "cell_type": "markdown",
   "metadata": {},
   "source": [
    "## *Przykład 3*"
   ]
  },
  {
   "cell_type": "code",
   "execution_count": 36,
   "metadata": {},
   "outputs": [],
   "source": [
    "class Memo(dict):\n",
    "    \"\"\"\n",
    "    Dekorator który dziedziczy po słowniku. \n",
    "    Po każdym wywołaniu funkcji tworzy nową pozycję w słowniku:\n",
    "    klucz - argumenty użyte podczas wywołania funkcji\n",
    "    wartość - przechowuje wynik jaki zwraca funkcja\n",
    "    \"\"\"\n",
    "    def __init__(self, funkcja):\n",
    "        self.funkcja = funkcja\n",
    "\n",
    "    def __call__(self, *args):\n",
    "        return self[args]\n",
    "\n",
    "    def __missing__(self, klucze):\n",
    "        wynik = self[klucze] = self.funkcja(*klucze)\n",
    "        return wynik\n",
    "\n",
    "@Memo\n",
    "def foo(a, b):\n",
    "    return a * b\n",
    "\n",
    "# sprawdźmy działanie"
   ]
  },
  {
   "cell_type": "code",
   "execution_count": 37,
   "metadata": {},
   "outputs": [
    {
     "data": {
      "text/plain": [
       "10"
      ]
     },
     "execution_count": 37,
     "metadata": {},
     "output_type": "execute_result"
    }
   ],
   "source": [
    "foo(2, 5)"
   ]
  },
  {
   "cell_type": "code",
   "execution_count": 38,
   "metadata": {},
   "outputs": [
    {
     "data": {
      "text/plain": [
       "'foofoofoofoo'"
      ]
     },
     "execution_count": 38,
     "metadata": {},
     "output_type": "execute_result"
    }
   ],
   "source": [
    "foo('foo', 4)"
   ]
  },
  {
   "cell_type": "code",
   "execution_count": 39,
   "metadata": {},
   "outputs": [
    {
     "data": {
      "text/plain": [
       "{(2, 5): 10, ('foo', 4): 'foofoofoofoo'}"
      ]
     },
     "execution_count": 39,
     "metadata": {},
     "output_type": "execute_result"
    }
   ],
   "source": [
    "foo"
   ]
  },
  {
   "cell_type": "markdown",
   "metadata": {},
   "source": [
    "# Podsumowanie"
   ]
  },
  {
   "cell_type": "markdown",
   "metadata": {},
   "source": [
    "Powyższe przykłady pozwalają zapoznać się z tematem @dekoratorów. Jest to zaledwie wstęp, ale daje on jednak pomysły na wykorzystanie możliwości tej konstrukcji we własnej pracy. "
   ]
  }
 ],
 "metadata": {
  "kernelspec": {
   "display_name": "Python 3",
   "language": "python",
   "name": "python3"
  },
  "language_info": {
   "codemirror_mode": {
    "name": "ipython",
    "version": 3
   },
   "file_extension": ".py",
   "mimetype": "text/x-python",
   "name": "python",
   "nbconvert_exporter": "python",
   "pygments_lexer": "ipython3",
   "version": "3.5.2"
  }
 },
 "nbformat": 4,
 "nbformat_minor": 2
}
